{
 "cells": [
  {
   "cell_type": "code",
   "execution_count": null,
   "metadata": {},
   "outputs": [],
   "source": [
    "import numpy as np\n",
    "import cv2\n",
    "import glob\n",
    "import matplotlib.pyplot as plt\n",
    "\n",
    "# termination criteria\n",
    "criteria = (cv2.TERM_CRITERIA_EPS + cv2.TERM_CRITERIA_MAX_ITER, 30, 0.001)\n",
    "\n",
    "# prepare object points, like (0,0,0), (1,0,0), (2,0,0) ....,(6,5,0)\n",
    "objp = np.zeros((6*9, 3), np.float32)\n",
    "objp[:,:2] = np.mgrid[0:9, 0:6].T.reshape(-1,2)\n",
    "\n",
    "# Arrays to store object points and image points from all the images.\n",
    "objpoints = [] # 3d points in real world space\n",
    "imgpoints = [] # 2d points in image plane.\n",
    "\n",
    "#todo: set calib path\n",
    "calib_path = \"...\"\n",
    "image_names = glob.glob(calib_path + '*.jpg')\n",
    "images = []\n",
    "\n",
    "#read images\n",
    "for i in range(0, len(image_names)):\n",
    "    fname = image_names[i]\n",
    "    img = cv2.imread(fname, -1)\n",
    "    images.append(img)\n",
    "\n",
    "print(\"loaded \" + str(len(images)) + \" images\")"
   ]
  },
  {
   "cell_type": "code",
   "execution_count": null,
   "metadata": {},
   "outputs": [],
   "source": [
    "#find the correspondences between object points and image points\n",
    "imgpoints = [] # 2d points in image plane.\n",
    "objpoints = []\n",
    "for i in range(0, len(images)):\n",
    "    img = images[i]\n",
    "    gray = cv2.cvtColor(img, cv2.COLOR_BGR2GRAY)\n",
    "    # Find the approximate chess board corners\n",
    "    ret, corners = cv2.findChessboardCorners(gray, (9,6))\n",
    "\n",
    "    #If found, add object points, image points (after refining them on subpixel lvl)\n",
    "    if ret:\n",
    "        print(\"found corners for img \" + str(i))\n",
    "        objpoints.append(objp)\n",
    "        corners2 = cv2.cornerSubPix(gray, corners, (11,11), (-1,-1), criteria)\n",
    "        imgpoints.append(corners2)"
   ]
  },
  {
   "cell_type": "code",
   "execution_count": null,
   "metadata": {},
   "outputs": [],
   "source": [
    "for i in range(5, 6):\n",
    "    fig = plt.figure(figsize=(30, 20))\n",
    "    img = images[i]\n",
    "    # Draw and display the corners\n",
    "    plt.axis(\"off\")\n",
    "    img = cv2.cvtColor(cv2.drawChessboardCorners(img, (9, 6), imgpoints[i], True), cv2.COLOR_BGR2RGB)\n",
    "    plt.imshow(img)\n",
    "    plt.show()"
   ]
  },
  {
   "cell_type": "code",
   "execution_count": null,
   "metadata": {},
   "outputs": [],
   "source": [
    "shape = images[0].shape[:-1]\n",
    "\n",
    "#find camera intrinsics and distortion parameters\n",
    "imgpoints=np.stack(imgpoints)\n",
    "_, intrinsics, dist_params, _, _ = cv2.calibrateCamera(objpoints, imgpoints, shape[::-1], None, None)\n",
    "\n",
    "#get params necessary for undistortion: fx, fy, cx, cy, k1, k2, k3, p1, p2\n",
    "fx = intrinsics[0, 0]\n",
    "fy = intrinsics[1, 1]\n",
    "cx = intrinsics[0, 2]\n",
    "cy = intrinsics[1, 2]\n",
    "k1 = dist_params[0, 0]\n",
    "k2 = dist_params[0, 1]\n",
    "k3 = dist_params[0, 4]\n",
    "p1 = dist_params[0, 2]\n",
    "p2 = dist_params[0, 3]\n",
    "\n",
    "print(\"calibration finished\")"
   ]
  },
  {
   "cell_type": "code",
   "execution_count": null,
   "metadata": {},
   "outputs": [],
   "source": [
    "#create meshgrid of pixel coordinates\n",
    "x = np.linspace(0, shape[1] - 1.0, shape[1])\n",
    "y = np.linspace(0, shape[0] - 1.0, shape[0])\n",
    "x, y = np.meshgrid(x, y)\n",
    "#go to coordinates relative to image center and focal length (-c, / f)\n",
    "x3d = (x - cx) / fx \n",
    "y3d = (y - cy) / fy\n",
    "#print(np.min(x3d), np.max(x3d))\n",
    "#precompute radiuses (r^2, r^4, r^6), xx, xy, yy\n",
    "xx3d = x3d ** 2\n",
    "yy3d = y3d ** 2\n",
    "xy3d = x3d * y3d\n",
    "r2 = xx3d + yy3d\n",
    "r4 = r2 ** 2\n",
    "r6 = r2 ** 3\n",
    "#compute scale of radial distortion\n",
    "scale = 1 + k1 * r2 + k2 * r4 + k3 * r6\n",
    "#compute translation of tangential distortion\n",
    "dx = 2 * p1 * xy3d + p2 * (r2 + 2 * xx3d)\n",
    "dy = p1 * (r2 + 2 * yy3d) + 2 * p2 * xy3d\n",
    "#undistort #(x, y) -> (x * scale + dx, y * scale + dy)\n",
    "x3d_undist = x3d * scale + dx\n",
    "y3d_undist = y3d * scale + dy\n",
    "#map back to pixel coordinates (*f, +c)\n",
    "xmap_undist = np.asarray(x3d_undist * fx + cx, dtype=np.float32)\n",
    "ymap_undist = np.asarray(y3d_undist * fy + cy, dtype=np.float32)\n",
    "\n",
    "print(\"undistortion mapping computed\")"
   ]
  },
  {
   "cell_type": "code",
   "execution_count": null,
   "metadata": {},
   "outputs": [],
   "source": [
    "#load a very distorted image\n",
    "#map image via cv2.remap(img, mapx, mapy, cv2.INTER_LINEAR)\n",
    "#compare to the mapping computed by opencv: mapx,mapy = cv2.initUndistortRectifyMap(mtx, dist, None, None, (4000, 2250), cv2.CV_32FC1)\n",
    "#todo: set test img path\n",
    "dist_test = \"...\"\n",
    "fig = plt.figure(figsize=(30, 20))\n",
    "img = images[0] #cv2.imread(dist_test, -1)\n",
    "plt.axis(\"off\")\n",
    "img = cv2.cvtColor(img, cv2.COLOR_BGR2RGB)\n",
    "plt.imshow(img)\n",
    "plt.show()\n",
    "fig = plt.figure(figsize=(30, 20))\n",
    "img = images[0]\n",
    "plt.axis(\"off\")\n",
    "img = cv2.cvtColor(cv2.remap(img, xmap_undist, ymap_undist, cv2.INTER_LINEAR), cv2.COLOR_BGR2RGB)\n",
    "plt.imshow(img)\n",
    "plt.show()\n",
    "mapx, mapy = cv2.initUndistortRectifyMap(intrinsics, dist_params, None, intrinsics, (4000, 2250), cv2.CV_32FC1)\n",
    "print(\"max remapping error x:\" + str(np.max(np.abs(xmap_undist - mapx))))\n",
    "print(\"max remapping error y:\" + str(np.max(np.abs(ymap_undist - mapy))))"
   ]
  },
  {
   "cell_type": "code",
   "execution_count": null,
   "metadata": {},
   "outputs": [],
   "source": []
  }
 ],
 "metadata": {
  "kernelspec": {
   "display_name": "Python 3",
   "language": "python",
   "name": "python3"
  },
  "language_info": {
   "codemirror_mode": {
    "name": "ipython",
    "version": 3
   },
   "file_extension": ".py",
   "mimetype": "text/x-python",
   "name": "python",
   "nbconvert_exporter": "python",
   "pygments_lexer": "ipython3",
   "version": "3.8.5"
  }
 },
 "nbformat": 4,
 "nbformat_minor": 1
}

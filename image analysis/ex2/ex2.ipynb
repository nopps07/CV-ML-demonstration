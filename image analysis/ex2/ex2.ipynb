{
  "nbformat": 4,
  "nbformat_minor": 0,
  "metadata": {
    "colab": {
      "provenance": []
    },
    "kernelspec": {
      "name": "python3",
      "display_name": "Python 3"
    },
    "language_info": {
      "name": "python"
    }
  },
  "cells": [
    {
      "cell_type": "code",
      "source": [
        "# Uncomment this if you are using Colab\n",
        "# ## Mount google drive: If your dataset is saved on google drive\n",
        "# from google.colab import drive\n",
        "# drive.mount('/content/drive')"
      ],
      "metadata": {
        "id": "8e2xOsEpumCy"
      },
      "execution_count": null,
      "outputs": []
    },
    {
      "cell_type": "code",
      "execution_count": null,
      "metadata": {
        "id": "5IlE0_ARt2Xn"
      },
      "outputs": [],
      "source": [
        "# This python code implements median filtering\n",
        "import cv2\n",
        "import numpy as np\n",
        "import matplotlib.pyplot as plt\n",
        "# ********************************************************\n",
        "# *                          INPUT                       *\n",
        "# ********************************************************\n",
        "\n",
        "# Load image\n",
        "filename = '<path_to_root>/images/lena.jpg'\n",
        "im = cv2.imread(filename)\n",
        "\n",
        "# Check if image is color, and convert to grayscale if necessary\n",
        "if im.ndim == 3:\n",
        "    im = cv2.cvtColor(im, cv2.COLOR_BGR2GRAY)\n",
        "\n",
        "# Convert the image data type to float and scale it to the range [0, 1]\n",
        "f = im.astype(np.float64) / 255.0\n",
        "\n",
        "\n",
        "# ********************************************************\n",
        "# *                          NOISE                       *\n",
        "# ********************************************************\n",
        "\n",
        "# Add Gaussian noise with standard deviation = 0.05\n",
        "f = f + 0.05 * np.random.randn(*f.shape)\n",
        "\n",
        "# ********************************************************\n",
        "# *                      MEDIAN FILTERING                *\n",
        "# ********************************************************\n",
        "\n",
        "# Apply median filter to the noisy image\n",
        "filt_size = 10\n",
        "filt_runs = 5\n",
        "# Change the above two value and see how does it affect the output image.\n",
        "################\n",
        "\n",
        "if filt_size % 2 == 0: #filt_size needs to be odd for cv2.medianBlur\n",
        "    filt_size += 1\n",
        "\n",
        "\n",
        "f2 = f.copy()  # Make a copy of the noisy image\n",
        "f2 = f2*255 # range should be between 0-255\n",
        "f2 = cv2.convertScaleAbs(f2) # should be uint8\n",
        "\n",
        "\n",
        "for i in range(filt_runs):\n",
        "    \n",
        "    f2 = cv2.medianBlur(f2, filt_size)  # Apply median filter with specified parameters\n",
        "\n",
        "# Display the input image and the median filtered image\n",
        "plt.figure()\n",
        "plt.imshow(f, cmap='gray')\n",
        "plt.title('Input image')\n",
        "\n",
        "plt.figure()\n",
        "plt.imshow(f2, cmap='gray')\n",
        "plt.title('Median filtered')\n",
        "\n",
        "plt.show()\n"
      ]
    }
  ]
}
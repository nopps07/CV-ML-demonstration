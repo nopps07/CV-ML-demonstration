{
  "nbformat": 4,
  "nbformat_minor": 0,
  "metadata": {
    "colab": {
      "provenance": []
    },
    "kernelspec": {
      "name": "python3",
      "display_name": "Python 3"
    },
    "language_info": {
      "name": "python"
    }
  },
  "cells": [
    {
      "cell_type": "code",
      "execution_count": null,
      "metadata": {
        "id": "xA84ixYG44SU"
      },
      "outputs": [],
      "source": [
        "# Uncomment this if you are using Colab\n",
        "# ## Mount google drive: If your dataset is saved on google drive\n",
        "# from google.colab import drive\n",
        "# drive.mount('/content/drive')"
      ]
    },
    {
      "cell_type": "code",
      "source": [
        "import numpy as np\n",
        "import cv2\n",
        "import matplotlib.pyplot as plt\n",
        "from scipy import fftpack, ndimage\n",
        "\n",
        "# read image\n",
        "filename = '<path_to_root>/images/isotropy.bmp' # TODO 1 : put filename here\n",
        "im = # read the image from the file and convert to gray scale\n",
        "f = im/255.0\n",
        "M,N = f.shape\n",
        "\n",
        "# mesh grids\n",
        "x,y = np.meshgrid(np.linspace(0,1-1/N,N), np.linspace(0,1-1/M,M))\n",
        "u,v = np.meshgrid(np.arange(-(N-1)/2, (N+1)/2), np.arange(-(M-1)/2, (M+1)/2))\n",
        "\n",
        "#********************************************************\n",
        "#*                  FILTER COMPUTATION                  *\n",
        "#********************************************************\n",
        "\n",
        "h_x = np.array()#TODO:enter the values # d/dx to use in exercise 7\n",
        "h_y = np.array()#TODO:enter the values # d/dy to use in exercise 7\n",
        "\n",
        "# filter MTF\n",
        "H = fftpack.fft2(h_x, (M,N))\n",
        "H = fftpack.fftshift(H)\n",
        "plt.imshow(np.abs(H), cmap='gray')\n",
        "plt.title('MTF')\n",
        "plt.show()\n",
        "\n",
        "H = fftpack.fft2(h_y, (M,N))\n",
        "H = fftpack.fftshift(H)\n",
        "plt.imshow(np.abs(H), cmap='gray')\n",
        "plt.title('MTF')\n",
        "plt.show()\n",
        "\n",
        "#********************************************************\n",
        "#*               SPATIAL DOMAIN FILTERING               *\n",
        "#********************************************************\n",
        "\n",
        "# filter: convolve the spatial filter with image\n",
        "f_x = #TODO: convolve spatial image with spatial filter (h_x), you can also use cv2.filter2D or ndimage.convolve instead of this function\n",
        "f_y = #TODO: convolve spatial image with spatial filter (h_x), you can also use cv2.filter2D or ndimage.convolve instead of this function\n",
        "\n",
        "fig, axs = plt.subplots(1, 2, figsize=(10,5))\n",
        "axs[0].imshow(f_x, cmap='gray')\n",
        "axs[0].set_title('Horizontal sobel')\n",
        "axs[1].imshow(f_y, cmap='gray')\n",
        "axs[1].set_title('Verticle sobel')\n",
        "plt.show()\n",
        "\n",
        "\n",
        "f_norm2 = #TODO: norm2 use eq 5 from exercise 7\n",
        "f_norm1 = #TODO: norm1 use eq 6 from exercise 7\n",
        "\n",
        "fig, axs = plt.subplots(1, 2, figsize=(10,5))\n",
        "axs[0].imshow(f_norm2, cmap='gray')\n",
        "axs[0].set_title('filtered image with norm2')\n",
        "axs[1].imshow(f_norm1, cmap='gray')\n",
        "axs[1].set_title('filtered image with norm1')\n",
        "plt.show()\n",
        "\n",
        "\n",
        "\n",
        "\n"
      ],
      "metadata": {
        "id": "v-VImWMN5itr"
      },
      "execution_count": null,
      "outputs": []
    },
    {
      "cell_type": "code",
      "source": [],
      "metadata": {
        "id": "_41En5mI6TKq"
      },
      "execution_count": null,
      "outputs": []
    }
  ]
}